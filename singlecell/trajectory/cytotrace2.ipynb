{
 "cells": [
  {
   "cell_type": "markdown",
   "id": "96d50317",
   "metadata": {},
   "source": [
    "# CytoTRACE 2 \n",
    "\n",
    "github:\n",
    "https://github.com/digitalcytometry/cytotrace2\n",
    "\n",
    "paper:\n",
    "https://www.nature.com/articles/s41592-025-02857-2"
   ]
  },
  {
   "cell_type": "code",
   "execution_count": null,
   "id": "eec83d73",
   "metadata": {},
   "outputs": [],
   "source": []
  }
 ],
 "metadata": {
  "language_info": {
   "name": "python"
  }
 },
 "nbformat": 4,
 "nbformat_minor": 5
}
